{
 "cells": [
  {
   "cell_type": "markdown",
   "id": "eb4c5826-d04a-4aaf-9ab0-3920ca33bfcc",
   "metadata": {},
   "source": [
    "#### Q1. What is an Exception in python? Write the difference between Exceptions and syntax errors"
   ]
  },
  {
   "cell_type": "markdown",
   "id": "5c7d8787-bcfa-49cb-8e64-4b6a1a621c4b",
   "metadata": {},
   "source": [
    "##### ANS : In Python, an exception is an event that occurs during the execution of a program that disrupts the normal flow of instructions. When an exceptional situation arises, an exception object is created and the program's normal execution is halted. If the exception is not handled (caught and processed), it can lead to the termination of the program with an error message that provides information about the exception's type and details.\n",
    "\n",
    "##### Exceptions can occur for various reasons, such as when dividing by zero, attempting to access an index that is out of range in a list, or trying to open a non-existent file. Python provides a mechanism to catch and handle exceptions using try and except blocks.\n",
    "\n",
    "##### Here's a basic example of how exceptions are caught and handled:"
   ]
  },
  {
   "cell_type": "code",
   "execution_count": null,
   "id": "5def6a16-7de8-43aa-ae68-f6a062742213",
   "metadata": {},
   "outputs": [],
   "source": [
    "try:\n",
    "    num = int(input(\"Enter a number: \"))\n",
    "    result = 10 / num\n",
    "    print(\"Result:\", result)\n",
    "except ZeroDivisionError:\n",
    "    print(\"Cannot divide by zero!\")\n",
    "except ValueError:\n",
    "    print(\"Invalid input! Please enter a valid number.\")\n"
   ]
  },
  {
   "cell_type": "markdown",
   "id": "8f6a9339-c8e5-4752-853d-45e18519c948",
   "metadata": {},
   "source": [
    "##### In this example, the program attempts to divide 10 by the user's input number. If the input is not a valid number (resulting in a ValueError) or if the input is zero (resulting in a ZeroDivisionError), the appropriate exception block is executed.\n",
    "\n",
    "##### Difference between Exceptions and Syntax Errors:\n",
    "\n",
    "##### 1 Cause:\n",
    "\n",
    "##### Syntax Error: Syntax errors are caused by incorrect usage of Python's syntax rules. These errors occur when the code violates the proper syntax structure of the language, such as missing colons, parentheses, quotes, etc.\n",
    "##### Exception: Exceptions are raised during the runtime of a program and are usually caused by specific conditions that occur as the program executes, such as division by zero, accessing an index out of range, or attempting to open a file that doesn't exist.\n",
    "\n",
    "##### 2 Timing:\n",
    "\n",
    "##### Syntax Error: Syntax errors are detected by the Python interpreter during the parsing phase before the code is executed. As a result, code with syntax errors cannot be executed at all.\n",
    "##### Exception: Exceptions occur during the execution of the program. The code might run for a while and then encounter an exception under certain conditions.\n",
    "\n",
    "##### 3 Handling:\n",
    "\n",
    "##### Syntax Error: These errors must be fixed by the programmer before the code can be executed.\n",
    "##### Exception: Exceptions can be caught and handled using try and except blocks, allowing the program to continue executing and providing a way to deal with unexpected situations gracefully.\n",
    "\n",
    "##### In summary, syntax errors are related to the incorrect structure of your code and prevent the program from running at all, while exceptions occur during program execution and can be caught and handled to ensure the program continues running smoothly even in the presence of unexpected situations."
   ]
  },
  {
   "cell_type": "code",
   "execution_count": null,
   "id": "d9e3beb9-5ac1-40a0-88d2-30a80c391742",
   "metadata": {},
   "outputs": [],
   "source": []
  },
  {
   "cell_type": "markdown",
   "id": "9a410929-5abd-4332-b2b7-7f086dd18e52",
   "metadata": {},
   "source": [
    "#### Q2 : What happens when an exception is not handled ? Explain with an example."
   ]
  },
  {
   "cell_type": "markdown",
   "id": "58a8e04e-340c-4cf9-af94-a19df8ead22b",
   "metadata": {},
   "source": [
    "#### ANS : When an exception is not handled in a program, it leads to what is known as an \"unhandled exception.\" An unhandled exception causes the normal flow of the program to be abruptly terminated, and an error message is displayed, providing information about the type of exception, where it occurred in the code, and a traceback of the function calls that led to the exception. This can be disruptive and can lead to unexpected program termination.\n",
    "\n",
    "##### Here's an example to illustrate what happens when an exception is not handled:"
   ]
  },
  {
   "cell_type": "code",
   "execution_count": null,
   "id": "361ed5c5-277f-43e5-884f-76deeb4d4f9d",
   "metadata": {},
   "outputs": [],
   "source": [
    "try:\n",
    "    num = int(input(\"Enter a number: \"))\n",
    "    result = 10 / num\n",
    "    print(\"Result:\", result)\n",
    "except ZeroDivisionError:\n",
    "    print(\"Cannot divide by zero!\")\n"
   ]
  },
  {
   "cell_type": "markdown",
   "id": "9f57a3af-e628-4b24-bc23-be569807a0bc",
   "metadata": {},
   "source": [
    "##### In this example, the code attempts to divide 10 by the user's input number. If the user enters a valid number, everything works fine. However, if the user enters zero, a ZeroDivisionError will occur, and since we have an exception handler for this specific error, the program will print \"Cannot divide by zero!\" and continue running without terminating unexpectedly."
   ]
  },
  {
   "cell_type": "code",
   "execution_count": null,
   "id": "8d39bd9e-2fc2-448c-bd38-d4a14fa63c7f",
   "metadata": {},
   "outputs": [],
   "source": [
    "# Now let's consider what happens if we remove the exception handler:\n",
    "\n",
    "try:\n",
    "    num = int(input(\"Enter a number: \"))\n",
    "    result = 10 / num\n",
    "    print(\"Result:\", result)\n",
    "except ValueError:\n",
    "    print(\"Invalid input! Please enter a valid number.\")\n",
    "\n",
    "# In this modified code, we've changed the exception handler to catch a ValueError instead of a ZeroDivisionError. If the user enters a non-numeric value (like a string), a ValueError will occur. However, since we're not catching ZeroDivisionError anymore, if the user enters zero as input, the program will encounter an unhandled exception. This might lead to an error message like:"
   ]
  },
  {
   "cell_type": "code",
   "execution_count": null,
   "id": "b9377ee6-a607-48d1-bf60-53a26577258a",
   "metadata": {},
   "outputs": [],
   "source": []
  },
  {
   "cell_type": "markdown",
   "id": "beb5fdeb-19f3-4356-b237-4b6364a5c356",
   "metadata": {},
   "source": [
    "#### Q3 : Which python statements are used to catch and handle the exceptions? Explain with an example."
   ]
  },
  {
   "cell_type": "markdown",
   "id": "5b73b811-1f6d-4d62-b323-18dfc8fd1cad",
   "metadata": {},
   "source": [
    "##### In Python, exceptions can be caught and handled using the try and except statements. The try block is used to enclose the code that might raise an exception, and the except block is used to specify how to handle the exception if it occurs. This allows you to gracefully recover from unexpected situations and prevent the program from crashing.\n",
    "\n",
    "##### Here's the basic syntax of using try and except statements:\n",
    "\n",
    "##### try:\n",
    "    # Code that might raise an exception\n",
    "##### except SomeException:\n",
    "    # Code to handle the exception\n",
    "\n",
    "##### Here's an example to illustrate the usage of try and except statements:"
   ]
  },
  {
   "cell_type": "code",
   "execution_count": null,
   "id": "0145f027-cae5-420b-a521-74ea27dd19a2",
   "metadata": {},
   "outputs": [],
   "source": [
    "try:\n",
    "    num = int(input(\"Enter a number: \"))\n",
    "    result = 10 / num\n",
    "    print(\"Result:\", result)\n",
    "except ZeroDivisionError:\n",
    "    print(\"Cannot divide by zero!\")\n",
    "except ValueError:\n",
    "    print(\"Invalid input! Please enter a valid number.\")\n"
   ]
  },
  {
   "cell_type": "markdown",
   "id": "e58a612d-6954-4cd6-a1e0-b975ad6d3a91",
   "metadata": {},
   "source": [
    "##### In this example, the code inside the try block attempts to divide 10 by the user's input number. If the user enters a valid number, the division operation proceeds smoothly, and the result is printed. However, if an exception occurs during the execution of the code inside the try block, Python will jump to the appropriate except block based on the type of exception that was raised.\n",
    "\n",
    "##### If the user enters a non-numeric value (like a string), a ValueError will occur, and the program will jump to the ValueError except block, printing \"Invalid input! Please enter a valid number.\"\n",
    "\n",
    "##### If the user enters zero, a ZeroDivisionError will occur, and the program will jump to the ZeroDivisionError except block, printing \"Cannot divide by zero!\""
   ]
  },
  {
   "cell_type": "code",
   "execution_count": null,
   "id": "f99cf7a1-a8ff-404d-9159-4d0d4e0644b4",
   "metadata": {},
   "outputs": [],
   "source": []
  },
  {
   "cell_type": "markdown",
   "id": "e2dd2196-1ea8-4c9f-8db4-6b40fbdce495",
   "metadata": {},
   "source": [
    "#### Q4 : Explain with example 1) try and else 2) finally 3) except"
   ]
  },
  {
   "cell_type": "markdown",
   "id": "4f32a013-f979-4e02-987f-f7a109fac7f8",
   "metadata": {},
   "source": [
    "##### ANS : Certainly, let's go through examples of each of the concepts you mentioned: try with else, finally, and except.\n",
    "\n",
    "1) try and else:\n",
    "\n",
    "##### The else block in a try statement is executed when no exceptions are raised in the corresponding try block. It allows you to specify code that should run only if the try block succeeds without any exceptions. Here's an example:"
   ]
  },
  {
   "cell_type": "code",
   "execution_count": null,
   "id": "e12db85c-59d8-43e2-9ad4-b2ba8d0ae53f",
   "metadata": {},
   "outputs": [],
   "source": [
    "try:\n",
    "    num = int(input(\"Enter a number: \"))\n",
    "    result = 10 / num\n",
    "except ZeroDivisionError:\n",
    "    print(\"Cannot divide by zero!\")\n",
    "else:\n",
    "    print(\"Division successful. Result:\", result)\n"
   ]
  },
  {
   "cell_type": "markdown",
   "id": "495975fd-989d-459a-9be7-6d26b3fedbef",
   "metadata": {},
   "source": [
    "##### In this example, if the user enters a non-zero number, the division operation will succeed, and the code in the else block will be executed, printing \"Division successful. Result: {result}\". If the user enters zero, a ZeroDivisionError will occur, and the program will jump to the except block instead."
   ]
  },
  {
   "cell_type": "markdown",
   "id": "6198588e-187a-44f8-a2b5-edade5c4f606",
   "metadata": {},
   "source": [
    "##### 2) finally:\n",
    "\n",
    "##### The finally block is used to specify code that should run regardless of whether an exception is raised or not. This block is often used for cleanup tasks, such as closing files or releasing resources. Here's an example:"
   ]
  },
  {
   "cell_type": "code",
   "execution_count": null,
   "id": "17616bb6-2a11-4172-aa1c-da3d98706428",
   "metadata": {},
   "outputs": [],
   "source": [
    "try:\n",
    "    file = open(\"example.txt\", \"r\")\n",
    "    content = file.read()\n",
    "except FileNotFoundError:\n",
    "    print(\"File not found!\")\n",
    "finally:\n",
    "    file.close()\n"
   ]
  },
  {
   "cell_type": "markdown",
   "id": "5972fbe1-62a3-422c-82da-4f0b4205a027",
   "metadata": {},
   "source": [
    "##### In this example, the try block attempts to open a file for reading. If the file is not found (FileNotFoundError), the program will jump to the except block. Regardless of whether an exception occurs or not, the finally block will execute, ensuring that the opened file is closed before the program exits.\n"
   ]
  },
  {
   "cell_type": "markdown",
   "id": "dcae48b6-deb1-40a7-84fe-8793645d72c1",
   "metadata": {},
   "source": [
    "##### 3) except:\n",
    "\n",
    "##### The except block is used to catch and handle specific exceptions that occur within the corresponding try block. We've already covered this in the previous responses, but here's a concise example:"
   ]
  },
  {
   "cell_type": "code",
   "execution_count": null,
   "id": "e87329f6-53dc-4dd0-bc32-2b180ea42591",
   "metadata": {},
   "outputs": [],
   "source": [
    "try:\n",
    "    num = int(input(\"Enter a number: \"))\n",
    "    result = 10 / num\n",
    "except ZeroDivisionError:\n",
    "    print(\"Cannot divide by zero!\")\n",
    "except ValueError:\n",
    "    print(\"Invalid input! Please enter a valid number.\")\n",
    "else:\n",
    "    print(\"Division successful. Result:\", result)\n"
   ]
  },
  {
   "cell_type": "markdown",
   "id": "01c0844b-3754-46db-8e22-32e97d92ea13",
   "metadata": {},
   "source": [
    "##### In this example, the try block attempts to perform a division. If a ZeroDivisionError occurs, the program will jump to the first except block. If a ValueError occurs (e.g., user enters a non-numeric value), the program will jump to the second except block. If no exceptions occur, the code in the else block will be executed.\n"
   ]
  },
  {
   "cell_type": "code",
   "execution_count": null,
   "id": "64b431e5-05e0-4a32-a280-ebfc4ade5614",
   "metadata": {},
   "outputs": [],
   "source": []
  },
  {
   "cell_type": "markdown",
   "id": "70d9b4f1-a50f-4628-8326-7042359ea188",
   "metadata": {},
   "source": [
    "#### Q4 : What are custom exceptions in python? Why do we need custom exception? Explain with example."
   ]
  },
  {
   "cell_type": "markdown",
   "id": "1058f9c6-96f4-458a-9d07-1467883b4d82",
   "metadata": {},
   "source": [
    "#### In Python, custom exceptions (also known as user-defined exceptions) allow you to create your own exception classes to handle specific scenarios that are not adequately covered by the built-in exceptions provided by Python. By defining custom exceptions, you can provide more meaningful error messages, encapsulate specific error conditions, and better organize your code's error-handling logic.\n",
    "\n",
    "#### Here's why you might need custom exceptions:\n",
    "\n",
    "#### Specific Error Handling: Built-in exceptions cover a wide range of common errors, but sometimes your code may encounter specific conditions that require specialized error handling. Custom exceptions allow you to handle these unique situations with clarity.\n",
    "\n",
    "#### Code Organization: Creating custom exceptions helps organize your code by categorizing errors into meaningful classes. This can make your code more maintainable and easier to understand.\n",
    "\n",
    "#### Clarity: Custom exceptions can provide more informative error messages that convey the exact nature of the problem, making it easier to diagnose issues during debugging.\n",
    "\n",
    "#### Here's an example to illustrate the use of custom exceptions:"
   ]
  },
  {
   "cell_type": "code",
   "execution_count": null,
   "id": "90e4c5bc-626e-4648-aab4-a14a23b9870b",
   "metadata": {},
   "outputs": [],
   "source": [
    "class NegativeNumberError(Exception):\n",
    "    def __init__(self, number):\n",
    "        self.number = number\n",
    "\n",
    "    def __str__(self):\n",
    "        return f\"NegativeNumberError: The number {self.number} is negative.\"\n",
    "\n",
    "\n",
    "def process_number(num):\n",
    "    if num < 0:\n",
    "        raise NegativeNumberError(num)\n",
    "    return num * 2\n",
    "\n",
    "\n",
    "try:\n",
    "    user_input = int(input(\"Enter a positive number: \"))\n",
    "    result = process_number(user_input)\n",
    "    print(\"Result:\", result)\n",
    "except ValueError:\n",
    "    print(\"Invalid input! Please enter a valid number.\")\n",
    "except NegativeNumberError as e:\n",
    "    print(e)\n"
   ]
  },
  {
   "cell_type": "markdown",
   "id": "432a8e47-1117-4914-ae3b-9da0f07b6f8f",
   "metadata": {},
   "source": [
    "##### In this example, we've defined a custom exception class NegativeNumberError. This exception is raised when the process_number function encounters a negative input. The custom exception class takes the negative number as an argument and provides a custom error message.\n",
    "\n",
    "##### When the user enters a number, the code attempts to process it using the process_number function. If the user enters a non-numeric value, a ValueError will be caught by the appropriate except block. If the user enters a negative number, the NegativeNumberError exception is raised and caught by its respective except block, printing a message indicating that the number is negative.\n",
    "\n",
    "##### Custom exceptions like NegativeNumberError help in making your code more expressive and focused on specific error conditions. They allow you to provide context-specific error handling while maintaining a clear separation between different types of exceptions in your application."
   ]
  },
  {
   "cell_type": "code",
   "execution_count": null,
   "id": "fc7a7f72-3bfb-4e77-9dcf-7c470e57b09d",
   "metadata": {},
   "outputs": [],
   "source": []
  },
  {
   "cell_type": "markdown",
   "id": "120e2ea9-f568-4e8c-8854-086c6508db1f",
   "metadata": {},
   "source": [
    "#### Q6 : Create an custom exception class. Use this exception to handle an error."
   ]
  },
  {
   "cell_type": "code",
   "execution_count": null,
   "id": "0c14f801-b200-4d24-850c-3710832926f7",
   "metadata": {},
   "outputs": [],
   "source": [
    "class NegativeValueError(Exception):\n",
    "    def __init__(self, value):\n",
    "        self.value = value\n",
    "\n",
    "    def __str__(self):\n",
    "        return f\"NegativeValueError: The value '{self.value}' is negative.\"\n",
    "\n",
    "\n",
    "def calculate_square_root(number):\n",
    "    if number < 0:\n",
    "        raise NegativeValueError(number)\n",
    "    return number ** 0.5\n",
    "\n",
    "\n",
    "try:\n",
    "    user_input = float(input(\"Enter a number: \"))\n",
    "    result = calculate_square_root(user_input)\n",
    "    print(f\"The square root of {user_input} is {result:.2f}\")\n",
    "except ValueError:\n",
    "    print(\"Invalid input! Please enter a valid number.\")\n",
    "except NegativeValueError as e:\n",
    "    print(e)\n"
   ]
  }
 ],
 "metadata": {
  "kernelspec": {
   "display_name": "Python 3 (ipykernel)",
   "language": "python",
   "name": "python3"
  },
  "language_info": {
   "codemirror_mode": {
    "name": "ipython",
    "version": 3
   },
   "file_extension": ".py",
   "mimetype": "text/x-python",
   "name": "python",
   "nbconvert_exporter": "python",
   "pygments_lexer": "ipython3",
   "version": "3.10.8"
  }
 },
 "nbformat": 4,
 "nbformat_minor": 5
}
